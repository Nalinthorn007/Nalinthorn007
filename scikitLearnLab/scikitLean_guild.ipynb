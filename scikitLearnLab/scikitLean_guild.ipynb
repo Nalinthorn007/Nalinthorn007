{
 "cells": [
  {
   "cell_type": "markdown",
   "metadata": {},
   "source": [
    "#### Step 1: Install Scikit-learn"
   ]
  },
  {
   "cell_type": "code",
   "execution_count": null,
   "metadata": {},
   "outputs": [],
   "source": [
    "#pip install scikit-learn"
   ]
  },
  {
   "cell_type": "code",
   "execution_count": null,
   "metadata": {},
   "outputs": [],
   "source": [
    "# show scikit-learn\n",
    " #pip show scikit-learn"
   ]
  },
  {
   "cell_type": "markdown",
   "metadata": {},
   "source": [
    "#### load dataset example form sklearn"
   ]
  },
  {
   "cell_type": "code",
   "execution_count": 21,
   "metadata": {},
   "outputs": [
    {
     "name": "stdout",
     "output_type": "stream",
     "text": [
      "     sepal length (cm)  sepal width (cm)  petal length (cm)  petal width (cm)\n",
      "0                  5.1               3.5                1.4               0.2\n",
      "1                  4.9               3.0                1.4               0.2\n",
      "2                  4.7               3.2                1.3               0.2\n",
      "3                  4.6               3.1                1.5               0.2\n",
      "4                  5.0               3.6                1.4               0.2\n",
      "..                 ...               ...                ...               ...\n",
      "145                6.7               3.0                5.2               2.3\n",
      "146                6.3               2.5                5.0               1.9\n",
      "147                6.5               3.0                5.2               2.0\n",
      "148                6.2               3.4                5.4               2.3\n",
      "149                5.9               3.0                5.1               1.8\n",
      "\n",
      "[150 rows x 4 columns]\n"
     ]
    }
   ],
   "source": [
    "from sklearn import datasets\n",
    "import pandas as pd\n",
    "\n",
    "# call to look all of dataset\n",
    "# dir(datasets)\n",
    "\n",
    "# specific dataset from load \n",
    "# [data for data in dir(datasets) if data.startswith('load')] \n",
    "\n",
    "# load iris dataset\n",
    "iris_dataset = datasets.load_iris()\n",
    "\n",
    "# digit datset\n",
    "digit_dataset = datasets.load_digits()\n",
    "\n",
    "\n",
    "# load data into pandas dataframe\n",
    "dfiris = pd.DataFrame(data=iris_dataset.data , columns=iris_dataset.feature_names)\n",
    "\n",
    "dfdigit = pd.DataFrame(data=digit_dataset.data , columns=digit_dataset.feature_names)\n",
    "\n",
    "print(dfiris.head(5))\n",
    "print(dfdigit.head(5))\n"
   ]
  },
  {
   "cell_type": "markdown",
   "metadata": {},
   "source": [
    "#### how to separate data (Train) with data test (Test)"
   ]
  },
  {
   "cell_type": "code",
   "execution_count": 30,
   "metadata": {},
   "outputs": [
    {
     "name": "stdout",
     "output_type": "stream",
     "text": [
      "x_train shape: (112, 4)\n",
      "x_train shape: (38, 4)\n",
      "x_train shape: (112,)\n",
      "x_train shape: (38,)\n"
     ]
    }
   ],
   "source": [
    "from sklearn.datasets import load_iris\n",
    "\n",
    "# import function train_test_split from sklearn\n",
    "from sklearn.model_selection import train_test_split\n",
    "\n",
    "# separate data on 2 sides as Train and test  x_train = teach , y_train = result\n",
    "x_train , x_test , y_train, y_test = train_test_split(\n",
    "    iris_dataset['data'],\n",
    "    iris_dataset['target'], \n",
    "    random_state=0\n",
    "    )\n",
    "\n",
    "print('x_train shape: {}'.format(x_train.shape)) # 75% = 112\n",
    "print('x_train shape: {}'.format(x_test.shape)) # 25% = 38\n",
    "print('x_train shape: {}'.format(y_train.shape)) # 75% = 112\n",
    "print('x_train shape: {}'.format(y_test.shape)) # 25% = 38\n",
    "\n"
   ]
  },
  {
   "cell_type": "code",
   "execution_count": null,
   "metadata": {},
   "outputs": [],
   "source": []
  }
 ],
 "metadata": {
  "kernelspec": {
   "display_name": "env",
   "language": "python",
   "name": "python3"
  },
  "language_info": {
   "codemirror_mode": {
    "name": "ipython",
    "version": 3
   },
   "file_extension": ".py",
   "mimetype": "text/x-python",
   "name": "python",
   "nbconvert_exporter": "python",
   "pygments_lexer": "ipython3",
   "version": "3.11.4"
  },
  "orig_nbformat": 4
 },
 "nbformat": 4,
 "nbformat_minor": 2
}
