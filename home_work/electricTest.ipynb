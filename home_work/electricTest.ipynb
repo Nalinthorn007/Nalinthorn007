{
 "cells": [
  {
   "cell_type": "code",
   "execution_count": 14,
   "metadata": {},
   "outputs": [
    {
     "name": "stdout",
     "output_type": "stream",
     "text": [
      "   id    Datetime      n_id  n_val      machine_id\n",
      "0   1  2022-11-13  10:06:00   2000  Air_Pump_Ozone\n",
      "1   2  2022-11-13  10:00:00  10000  Air_Pump_Ozone\n",
      "2   3  2022-11-13   9:15:00   1200  Air_Pump_Ozone\n",
      "3   4  2022-11-13   9:00:00    500  Air_Pump_Ozone\n",
      "4   5  2022-11-13   8:30:00   1100  Air_Pump_Ozone\n",
      "5   6  2022-11-13   8:00:00   1000  Air_Pump_Ozone\n",
      "   id   Datetime      n_id  n_val      machine_id  anomaly\n",
      "0   1 2022-11-13  10:06:00   2000  Air_Pump_Ozone        1\n",
      "2   3 2022-11-13   9:15:00   1200  Air_Pump_Ozone        1\n",
      "4   5 2022-11-13   8:30:00   1100  Air_Pump_Ozone        1\n",
      "5   6 2022-11-13   8:00:00   1000  Air_Pump_Ozone        1\n"
     ]
    }
   ],
   "source": [
    "import pandas as pd\n",
    "from sklearn.ensemble import IsolationForest\n",
    "\n",
    "# Sample data from your provided DataFrame\n",
    "df = pd.read_csv('../pandasLab/dataset/Electric.csv')\n",
    "print(df)\n",
    "\n",
    "# Convert Datetime column to datetime type\n",
    "df['Datetime'] = pd.to_datetime(df['Datetime'])\n",
    "\n",
    "# Filter data for the specific date (2022-11-13)\n",
    "date_filter = df['Datetime'].dt.date == pd.to_datetime('2022-11-13').date()\n",
    "filtered_df = df[date_filter]\n",
    "\n",
    "# Train an Isolation Forest model to detect anomalies in n_val\n",
    "X = filtered_df[['n_val']].values \n",
    "model = IsolationForest(contamination=0.05, random_state=42)\n",
    "model.fit(X) \n",
    "\n",
    "# Predict anomalies (outliers) using the model\n",
    "anomalies = model.predict(X)\n",
    "\n",
    "\n",
    "# Add the anomaly predictions to the filtered DataFrame\n",
    "filtered_df['anomaly'] = anomalies\n",
    "\n",
    "\n",
    "# Remove the rows with anomalies (n_id 9:00:00 and 10:00:00)\n",
    "filtered_df_cleaned = filtered_df[filtered_df['anomaly'] == 1]\n",
    "\n",
    "# Remove rows with n_val equal to 500 \n",
    "filtered_df_cleaned = filtered_df_cleaned[~filtered_df_cleaned['n_val'].isin([500])]\n",
    "\n",
    "# Display the cleaned DataFrame\n",
    "print(filtered_df_cleaned)\n"
   ]
  },
  {
   "cell_type": "code",
   "execution_count": 13,
   "metadata": {},
   "outputs": [
    {
     "name": "stdout",
     "output_type": "stream",
     "text": [
      "[ 0.15418443 -0.05139481  0.31155225  0.18134352  0.32737372  0.31778411]\n",
      "   id    Datetime      n_id  n_val      machine_id  anomaly\n",
      "1   2  2022-11-13  10:00:00  10000  Air_Pump_Ozone    False\n"
     ]
    }
   ],
   "source": [
    "import pandas as pd\n",
    "from sklearn.ensemble import IsolationForest\n",
    "\n",
    "# Load and preprocess data\n",
    "data = pd.read_csv('../pandasLab/dataset/Electric.csv')\n",
    "X = data[['n_val']].values\n",
    "\n",
    "# Train Isolation Forest\n",
    "model = IsolationForest(contamination=0.05, random_state=42) # pen karn check kar phit pok ka ti nai khr moun\n",
    "model.fit(X)\n",
    "\n",
    "\n",
    "# Predict anomalies\n",
    "anomaly_scores = model.decision_function(X) # random khr moun pid pok ka ti\n",
    "print(anomaly_scores)\n",
    "\n",
    "threshold = sorted(anomaly_scores)[int(0.05 * len(anomaly_scores))]  # Adjust the contamination rate\n",
    "\n",
    "# Identify and filter anomalies\n",
    "data['anomaly'] = anomaly_scores > threshold\n",
    "filtered_data = data[~data['anomaly']]\n",
    "\n",
    "print(filtered_data)\n"
   ]
  },
  {
   "cell_type": "code",
   "execution_count": 18,
   "metadata": {},
   "outputs": [
    {
     "name": "stdout",
     "output_type": "stream",
     "text": [
      "Original Data:\n",
      "   id    Datetime      n_id  n_val      machine_id  anomaly\n",
      "0   1  2022-11-13  10:06:00   2000  Air_Pump_Ozone     True\n",
      "1   2  2022-11-13  10:00:00  10000  Air_Pump_Ozone    False\n",
      "2   3  2022-11-13   9:15:00   1200  Air_Pump_Ozone     True\n",
      "3   4  2022-11-13   9:00:00    500  Air_Pump_Ozone     True\n",
      "4   5  2022-11-13   8:30:00   1100  Air_Pump_Ozone     True\n",
      "5   6  2022-11-13   8:00:00   1000  Air_Pump_Ozone     True\n",
      "\n",
      "Filtered Data (Anomalies Removed):\n",
      "   id    Datetime      n_id  n_val      machine_id  anomaly\n",
      "1   2  2022-11-13  10:00:00  10000  Air_Pump_Ozone    False\n",
      "\n",
      "Anomalies Detected:\n",
      "   id    Datetime      n_id  n_val      machine_id  anomaly\n",
      "0   1  2022-11-13  10:06:00   2000  Air_Pump_Ozone     True\n",
      "2   3  2022-11-13   9:15:00   1200  Air_Pump_Ozone     True\n",
      "3   4  2022-11-13   9:00:00    500  Air_Pump_Ozone     True\n",
      "4   5  2022-11-13   8:30:00   1100  Air_Pump_Ozone     True\n",
      "5   6  2022-11-13   8:00:00   1000  Air_Pump_Ozone     True\n"
     ]
    }
   ],
   "source": [
    "import pandas as pd\n",
    "from sklearn.ensemble import IsolationForest\n",
    "\n",
    "# Load and preprocess data\n",
    "data = pd.read_csv('../pandasLab/dataset/Electric.csv')\n",
    "X = data[['n_val']].values\n",
    "\n",
    "# Train Isolation Forest\n",
    "model = IsolationForest(contamination=0.05, random_state=42)\n",
    "model.fit(X)\n",
    "\n",
    "# Predict anomalies\n",
    "anomaly_scores = model.decision_function(X)\n",
    "\n",
    "# Sort anomaly scores in ascending order\n",
    "sorted_anomaly_scores = sorted(anomaly_scores)\n",
    "\n",
    "# Calculate threshold based on contamination rate (e.g., 5%)\n",
    "threshold_index = int(0.05 * len(sorted_anomaly_scores))\n",
    "threshold = sorted_anomaly_scores[threshold_index]\n",
    "\n",
    "# Identify and filter anomalies\n",
    "data['anomaly'] = anomaly_scores > threshold\n",
    "filtered_data = data[~data['anomaly']]\n",
    "\n",
    "print(\"Original Data:\")\n",
    "print(data)\n",
    "\n",
    "print(\"\\nFiltered Data (Anomalies Removed):\")\n",
    "print(filtered_data)\n",
    "\n",
    "# Display rows with anomalies\n",
    "anomalies = data[data['anomaly']]\n",
    "print(\"\\nAnomalies Detected:\")\n",
    "print(anomalies)\n"
   ]
  },
  {
   "cell_type": "code",
   "execution_count": null,
   "metadata": {},
   "outputs": [],
   "source": []
  },
  {
   "cell_type": "code",
   "execution_count": 19,
   "metadata": {},
   "outputs": [
    {
     "name": "stdout",
     "output_type": "stream",
     "text": [
      "-0.05139480964733467\n",
      "Value 500 is predicted as an anomaly.\n",
      "Value 10000 is predicted as an anomaly.\n",
      "\n",
      "Filtered Data (Anomalies Removed):\n",
      "   id    Datetime      n_id  n_val      machine_id\n",
      "0   1  2022-11-13  10:06:00   2000  Air_Pump_Ozone\n",
      "2   3  2022-11-13   9:15:00   1200  Air_Pump_Ozone\n",
      "4   5  2022-11-13   8:30:00   1100  Air_Pump_Ozone\n",
      "5   6  2022-11-13   8:00:00   1000  Air_Pump_Ozone\n"
     ]
    }
   ],
   "source": [
    "import pandas as pd\n",
    "from sklearn.ensemble import IsolationForest\n",
    "\n",
    "# Load and preprocess data\n",
    "data = pd.read_csv('../pandasLab/dataset/Electric.csv')\n",
    "\n",
    "# Train Isolation Forest\n",
    "model = IsolationForest(contamination=0.05, random_state=42)\n",
    "model.fit(data[['n_val']].values)\n",
    "\n",
    "# Predict anomalies\n",
    "anomaly_scores = model.decision_function(data[['n_val']].values)\n",
    "\n",
    "# Sort anomaly scores in ascending order\n",
    "sorted_anomaly_scores = sorted(anomaly_scores) \n",
    "\n",
    "# Calculate threshold based on contamination rate (e.g., 5%)\n",
    "threshold_index = int(0.05 * len(sorted_anomaly_scores)) \n",
    "threshold = sorted_anomaly_scores[threshold_index]\n",
    "\n",
    "# Check if specific values are anomalies\n",
    "anomaly_threshold = threshold  # You can adjust this threshold if needed\n",
    "\n",
    "specific_values = [500, 10000]  # List of specific values to check\n",
    "print(anomaly_threshold)\n",
    "for specific_value in specific_values:\n",
    "    if specific_value > anomaly_threshold:\n",
    "        print(f\"Value {specific_value} is predicted as an anomaly.\")\n",
    "    else:\n",
    "        print(f\"Value {specific_value} is not predicted as an anomaly.\")\n",
    "\n",
    "# Filter data to exclude rows with specified values\n",
    "filtered_data = data[~data['n_val'].isin(specific_values)]\n",
    "\n",
    "print(\"\\nFiltered Data (Anomalies Removed):\")\n",
    "print(filtered_data)\n"
   ]
  },
  {
   "cell_type": "code",
   "execution_count": null,
   "metadata": {},
   "outputs": [],
   "source": []
  }
 ],
 "metadata": {
  "kernelspec": {
   "display_name": "env",
   "language": "python",
   "name": "python3"
  },
  "language_info": {
   "codemirror_mode": {
    "name": "ipython",
    "version": 3
   },
   "file_extension": ".py",
   "mimetype": "text/x-python",
   "name": "python",
   "nbconvert_exporter": "python",
   "pygments_lexer": "ipython3",
   "version": "3.11.4"
  },
  "orig_nbformat": 4
 },
 "nbformat": 4,
 "nbformat_minor": 2
}
