{
 "cells": [
  {
   "cell_type": "markdown",
   "metadata": {},
   "source": [
    "#### Step1: Importing the required libraries"
   ]
  },
  {
   "cell_type": "code",
   "execution_count": 6,
   "metadata": {},
   "outputs": [],
   "source": [
    "import pymysql\n",
    "\n",
    "from module import connectMariaDb as con"
   ]
  },
  {
   "cell_type": "markdown",
   "metadata": {},
   "source": [
    "#### Step2: Create table "
   ]
  },
  {
   "cell_type": "code",
   "execution_count": null,
   "metadata": {},
   "outputs": [],
   "source": [
    "def create_table(): \n",
    "    connection = con.connectdb()\n",
    "    cursor = connection.cursor() \n",
    "\n",
    "    #Create table \n",
    "    sql = '''\n",
    "        CREATE TABLE person (\n",
    "            id INT AUTO_INCREMENT PRIMARY KEY,\n",
    "            name VARCHAR(255),\n",
    "            address VARCHAR(255)\n",
    "        )\n",
    "        '''\n",
    "    try:\n",
    "        cursor.execute(sql)\n",
    "        print(\"Table created successfully\")\n",
    "    except pymysql.MySQLError as e:\n",
    "        print(f\"Error connecting to database: {e}\")\n",
    "        return None \n",
    "    \n",
    "# call function\n",
    "create_table()"
   ]
  },
  {
   "cell_type": "markdown",
   "metadata": {},
   "source": [
    "#### Step 3: insert data in table"
   ]
  },
  {
   "cell_type": "code",
   "execution_count": null,
   "metadata": {},
   "outputs": [],
   "source": [
    "def add_table(name=\"\" , address=\"\"): \n",
    "    connection = con.connectdb()\n",
    "    cursor = connection.cursor() \n",
    "\n",
    "    #Create table \n",
    "    sql = f\" INSERT INTO person (name,address) VALUES('{name}','{address}')\"\n",
    "    try:\n",
    "        cursor.execute(sql)\n",
    "        # Commit the changes\n",
    "        connection.commit()\n",
    "        print(\"Add person successfully\")\n",
    "    except pymysql.MySQLError as e:\n",
    "        print(f\"Error connecting to database: {e}\")\n",
    "        return None \n",
    "    \n",
    "# call function\n",
    "add_table('Mouky','Jom na ny')"
   ]
  },
  {
   "cell_type": "markdown",
   "metadata": {},
   "source": []
  },
  {
   "cell_type": "markdown",
   "metadata": {},
   "source": [
    "#### Step 4: get data from table by using Select"
   ]
  },
  {
   "cell_type": "code",
   "execution_count": 10,
   "metadata": {},
   "outputs": [
    {
     "name": "stdout",
     "output_type": "stream",
     "text": [
      "ID= 2\n",
      "ID= Mouky\n",
      "ID= Jom na ny\n",
      "_____________________\n",
      "ID= 1\n",
      "ID= Nalinthorn\n",
      "ID= Dong mieng\n",
      "_____________________\n"
     ]
    }
   ],
   "source": [
    "def read_person(): \n",
    "    connection = con.connectdb()\n",
    "    cursor = connection.cursor() \n",
    "\n",
    "    #Create table \n",
    "    sql = f\"Select * from person order by id DESC\"\n",
    "    try:\n",
    "        cursor.execute(sql)\n",
    "        # Commit the changes\n",
    "        connection.commit()\n",
    "        #get data\n",
    "        for row in cursor:\n",
    "            print(\"ID=\",row['id'])   \n",
    "            print(\"ID=\",row['name'])   \n",
    "            print(\"ID=\",row['address'])\n",
    "            print(\"_____________________\")\n",
    "    except pymysql.MySQLError as e:\n",
    "        print(f\"Error connecting to database: {e}\")\n",
    "        return None \n",
    "    \n",
    "# call function\n",
    "read_person()"
   ]
  },
  {
   "cell_type": "code",
   "execution_count": null,
   "metadata": {},
   "outputs": [],
   "source": []
  }
 ],
 "metadata": {
  "kernelspec": {
   "display_name": "env",
   "language": "python",
   "name": "python3"
  },
  "language_info": {
   "codemirror_mode": {
    "name": "ipython",
    "version": 3
   },
   "file_extension": ".py",
   "mimetype": "text/x-python",
   "name": "python",
   "nbconvert_exporter": "python",
   "pygments_lexer": "ipython3",
   "version": "3.11.4"
  },
  "orig_nbformat": 4
 },
 "nbformat": 4,
 "nbformat_minor": 2
}
