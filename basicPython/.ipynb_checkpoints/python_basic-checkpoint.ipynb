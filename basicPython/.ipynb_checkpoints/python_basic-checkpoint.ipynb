{
 "cells": [
  {
   "cell_type": "markdown",
   "id": "71b19909-5edf-4fbb-8851-3099849c5067",
   "metadata": {},
   "source": [
    "#1. Variable in Python"
   ]
  }
 ],
 "metadata": {
  "kernelspec": {
   "display_name": "Python 3 (ipykernel)",
   "language": "python",
   "name": "python3"
  },
  "language_info": {
   "codemirror_mode": {
    "name": "ipython",
    "version": 3
   },
   "file_extension": ".py",
   "mimetype": "text/x-python",
   "name": "python",
   "nbconvert_exporter": "python",
   "pygments_lexer": "ipython3",
   "version": "3.11.4"
  }
 },
 "nbformat": 4,
 "nbformat_minor": 5
}
