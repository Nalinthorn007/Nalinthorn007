{
 "cells": [
  {
   "cell_type": "markdown",
   "id": "b524163b-ce41-4c30-9de3-f603e55f99e2",
   "metadata": {},
   "source": [
    "## 1.Variable in Python"
   ]
  },
  {
   "cell_type": "code",
   "execution_count": null,
   "id": "ed05987f-3022-4098-8972-b1eea19af45d",
   "metadata": {},
   "outputs": [],
   "source": [
    "space_name = 'basicpython'"
   ]
  },
  {
   "cell_type": "code",
   "execution_count": null,
   "id": "ded69d5d-01cb-43cf-afd5-747d7190077e",
   "metadata": {},
   "outputs": [],
   "source": [
    "print(space_name)"
   ]
  },
  {
   "cell_type": "code",
   "execution_count": null,
   "id": "706c089e-dbb1-428d-8a4c-2534e65ed5da",
   "metadata": {},
   "outputs": [],
   "source": [
    "#### Check data type\n",
    "type(space_name)"
   ]
  },
  {
   "cell_type": "code",
   "execution_count": null,
   "id": "2032779c-d166-487b-ad31-884877b9b8ef",
   "metadata": {},
   "outputs": [],
   "source": [
    "# Example datatype\n",
    "a = 10 \n",
    "b = 20.50\n",
    "\n",
    "print(a)\n",
    "print(b)"
   ]
  },
  {
   "cell_type": "code",
   "execution_count": null,
   "id": "2a1157c0",
   "metadata": {},
   "outputs": [],
   "source": [
    "print(type(a))\n",
    "print(type(b))"
   ]
  },
  {
   "cell_type": "markdown",
   "id": "29f590ee",
   "metadata": {},
   "source": [
    "## 2.Example for condition if python"
   ]
  },
  {
   "cell_type": "markdown",
   "id": "270533ab",
   "metadata": {},
   "source": []
  },
  {
   "cell_type": "code",
   "execution_count": null,
   "id": "90eb3291",
   "metadata": {},
   "outputs": [],
   "source": [
    "# condition if...else\n",
    "n = -1\n",
    "if n > 0 :\n",
    "    print(\"n is larger than 0\")\n",
    "elif n == 0:\n",
    "    print(\"n is equal to 0\")\n",
    "else:\n",
    "    print(\"n is less than 0\")"
   ]
  },
  {
   "cell_type": "markdown",
   "id": "23f32cf2",
   "metadata": {},
   "source": [
    "## 3. Condition (Loops)"
   ]
  },
  {
   "cell_type": "code",
   "execution_count": null,
   "id": "8e7d40b3",
   "metadata": {},
   "outputs": [],
   "source": [
    "# for loop\n",
    "\n",
    "for i in range(1, 11):\n",
    "    print(i)"
   ]
  },
  {
   "cell_type": "code",
   "execution_count": null,
   "id": "6f5e5f50",
   "metadata": {},
   "outputs": [],
   "source": [
    "# while loop\n",
    "round = 1 \n",
    "while round <= 5:\n",
    "    print(\"Round\" , round)\n",
    "    round +=1"
   ]
  },
  {
   "cell_type": "markdown",
   "id": "79d78cd9",
   "metadata": {},
   "source": [
    "## 4. Data Type List (Arrays)"
   ]
  },
  {
   "cell_type": "code",
   "execution_count": null,
   "id": "3c2868f6",
   "metadata": {},
   "outputs": [],
   "source": [
    "numbers = [1,2,3,4,5] \n",
    "print(numbers[-4]) # to access back\n",
    "print(numbers[3]) # to access forefront"
   ]
  },
  {
   "cell_type": "code",
   "execution_count": null,
   "id": "c4eb9e65",
   "metadata": {},
   "outputs": [],
   "source": [
    "# for loop to read data\n",
    "\n",
    "for n in numbers:\n",
    "    if n % 2 == 1:\n",
    "        print(n*2) "
   ]
  },
  {
   "cell_type": "markdown",
   "id": "214063b2",
   "metadata": {},
   "source": [
    "## 5. Data type Dictionary"
   ]
  },
  {
   "cell_type": "code",
   "execution_count": null,
   "id": "859e98a0",
   "metadata": {},
   "outputs": [],
   "source": [
    "scores = {\n",
    "    'john': 100 , \n",
    "    'jane': 90 , \n",
    "    'jeremy': 95\n",
    "        } \n",
    "\n",
    "for key in scores.keys():\n",
    "    print(key)\n",
    "for value in scores.values():\n",
    "    print(value)\n",
    "for key , val in scores.items():\n",
    "    print(key , val)"
   ]
  },
  {
   "cell_type": "markdown",
   "id": "a9f5e0a9",
   "metadata": {},
   "source": [
    "## 6. Data type Sets"
   ]
  },
  {
   "cell_type": "markdown",
   "id": "1933be6f",
   "metadata": {},
   "source": []
  },
  {
   "cell_type": "code",
   "execution_count": null,
   "id": "6d34bf69",
   "metadata": {},
   "outputs": [],
   "source": [
    "number = {77,2,6,7,15,22,3,15,6}\n",
    "print(number)"
   ]
  },
  {
   "cell_type": "code",
   "execution_count": null,
   "id": "0b7abc9f",
   "metadata": {},
   "outputs": [],
   "source": [
    "#loop sets\n",
    "for n in number:\n",
    "    print(n)"
   ]
  },
  {
   "cell_type": "markdown",
   "id": "84a91a8c",
   "metadata": {},
   "source": [
    "## 7. How to create function in python"
   ]
  },
  {
   "cell_type": "code",
   "execution_count": null,
   "id": "667d904c",
   "metadata": {},
   "outputs": [],
   "source": [
    "# function no parameter\n",
    "def welcome():\n",
    "    print(\"Welcome to Python\")\n",
    "\n",
    "## call function\n",
    "welcome()"
   ]
  },
  {
   "cell_type": "code",
   "execution_count": null,
   "id": "a892cd2c",
   "metadata": {},
   "outputs": [],
   "source": [
    "# function parameter\n",
    "def cal_area(width = 0 , height = 0):\n",
    "    total = width * height\n",
    "    return total\n",
    "\n",
    "cal_area(20,10)"
   ]
  },
  {
   "cell_type": "markdown",
   "id": "5d64a750",
   "metadata": {},
   "source": [
    "## 8. call function module external"
   ]
  },
  {
   "cell_type": "code",
   "execution_count": null,
   "id": "dac6eca0",
   "metadata": {},
   "outputs": [],
   "source": [
    "from module import * ## function cal_area is in __init__.py  \n",
    "print(cal_area(5, 6))\n",
    "print(plus(5+10))  \n",
    "\n"
   ]
  },
  {
   "cell_type": "markdown",
   "id": "90ad912b",
   "metadata": {},
   "source": [
    "## 9. how to use library from internal"
   ]
  },
  {
   "cell_type": "code",
   "execution_count": null,
   "id": "09430e61",
   "metadata": {},
   "outputs": [],
   "source": [
    "import qrcode\n",
    "print(\"QRCode Generator Program\")\n",
    "print(\"Please type 'quit' to exit\")\n",
    "\n",
    "while True:\n",
    "    product_data = input(\"Please input your product code: \")\n",
    "    if product_data == 'quit':\n",
    "        print(\"Thank you\")\n",
    "        break\n",
    "    if len(product_data) == 5:\n",
    "        # Create qr code\n",
    "        img = qrcode.make(product_data)\n",
    "        type(img)\n",
    "        img.save(f\"productQrcode/{product_data}.png\") #use f can use product_data\n",
    "    else:\n",
    "        print(\"Invalid product code\")\n",
    "        continue"
   ]
  },
  {
   "cell_type": "code",
   "execution_count": null,
   "id": "0e873bc3",
   "metadata": {},
   "outputs": [],
   "source": []
  }
 ],
 "metadata": {
  "kernelspec": {
   "display_name": "Python 3 (ipykernel)",
   "language": "python",
   "name": "python3"
  },
  "language_info": {
   "codemirror_mode": {
    "name": "ipython",
    "version": 3
   },
   "file_extension": ".py",
   "mimetype": "text/x-python",
   "name": "python",
   "nbconvert_exporter": "python",
   "pygments_lexer": "ipython3",
   "version": "3.11.4"
  }
 },
 "nbformat": 4,
 "nbformat_minor": 5
}
