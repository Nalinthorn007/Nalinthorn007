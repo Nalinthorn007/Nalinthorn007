{
 "cells": [
  {
   "cell_type": "markdown",
   "metadata": {},
   "source": [
    "#### Step 1: Check library numpy if exists or not"
   ]
  },
  {
   "cell_type": "code",
   "execution_count": null,
   "metadata": {},
   "outputs": [],
   "source": [
    "#pip show numpy"
   ]
  },
  {
   "cell_type": "markdown",
   "metadata": {},
   "source": [
    "#### Step 2: install numpy"
   ]
  },
  {
   "cell_type": "code",
   "execution_count": null,
   "metadata": {},
   "outputs": [],
   "source": [
    "# pip install numpy"
   ]
  },
  {
   "cell_type": "markdown",
   "metadata": {},
   "source": [
    "#### Step 3: how to create Numpy"
   ]
  },
  {
   "cell_type": "code",
   "execution_count": null,
   "metadata": {},
   "outputs": [],
   "source": [
    "import numpy as np\n",
    "\n",
    "#Scalar array Scalar is one array as 10\n",
    "a = np.array(10)\n",
    "# print(a)\n",
    "\n",
    "# Vector Array \\\\ Vector should be row and column\n",
    "row = np.array([1,2,3]) # 1 row and 3 columns\n",
    "col = np.array([[1],[2],[3]]) # 3 rows and 1 column\n",
    "# print(row)\n",
    "# print(col)\n",
    "\n",
    "# Matrix Array\n",
    "mat = np.array([[10,11,12],[13,14,15]]) # 2 rows and 3 columns\n",
    "print(mat)"
   ]
  },
  {
   "cell_type": "markdown",
   "metadata": {},
   "source": [
    "#### Step 4: create random number"
   ]
  },
  {
   "cell_type": "code",
   "execution_count": null,
   "metadata": {},
   "outputs": [],
   "source": [
    "# random float 0-1\n",
    "r1 = np.random.random(4) # random vector 4 number\n",
    "r2 = np.random.random([2,3]) # random matrix 2x3\n",
    "# print(r1)\n",
    "# print(r2)\n",
    "\n",
    "# random int\n",
    "r3 = np.random.randint(0,11,6) #random int 6 number 0-10\n",
    "r4 = np.random.randint(0,11,[2,3]) # random matrix 2x3 0-10\n",
    "print(r3)\n",
    "print(r4)"
   ]
  },
  {
   "cell_type": "markdown",
   "metadata": {},
   "source": [
    "#### Step 5: access and find data in Array"
   ]
  },
  {
   "cell_type": "code",
   "execution_count": null,
   "metadata": {},
   "outputs": [],
   "source": [
    "vrow = np.array([1,2,3,4,5,6,7,8,9,10])\n",
    "\n",
    "print(vrow[3]) #access position num 3 from data vrow\n",
    "print(vrow[2:7]) #access between data postion array 2-6\n",
    "print(vrow[:4]) # start first array 0 to 3\n",
    "print(vrow[4:]) # start postion in 4 to the end"
   ]
  },
  {
   "cell_type": "markdown",
   "metadata": {},
   "source": [
    "#### Step 6: finding data statistic"
   ]
  },
  {
   "cell_type": "code",
   "execution_count": null,
   "metadata": {},
   "outputs": [],
   "source": [
    "stat = np.array([[1,2,3,4],[5,6,7,8],[9,10,11,12]])\n",
    "print(stat)\n",
    "print(\"Max:\", np.max(stat)) # max data\n",
    "print(\"Min:\", np.min(stat)) # min data\n",
    "print(\"Mean:\", np.mean(stat)) # mean data\n",
    "print(\"Median:\", np.median(stat)) # median data\n",
    "print(\"std:\", np.std(stat)) # srd data\n",
    "print(\"Var:\", np.var(stat)) # var data\n",
    " "
   ]
  }
 ],
 "metadata": {
  "kernelspec": {
   "display_name": "env",
   "language": "python",
   "name": "python3"
  },
  "language_info": {
   "codemirror_mode": {
    "name": "ipython",
    "version": 3
   },
   "file_extension": ".py",
   "mimetype": "text/x-python",
   "name": "python",
   "nbconvert_exporter": "python",
   "pygments_lexer": "ipython3",
   "version": "3.11.4"
  },
  "orig_nbformat": 4
 },
 "nbformat": 4,
 "nbformat_minor": 2
}
